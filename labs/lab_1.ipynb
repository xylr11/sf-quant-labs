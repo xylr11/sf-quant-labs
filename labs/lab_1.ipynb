{
 "cells": [
  {
   "cell_type": "markdown",
   "id": "9c96f31a",
   "metadata": {},
   "source": [
    "# Lab 1: Silver Fund Quant Data Module and Returns\n",
    "\n",
    "In this lab we will:\n",
    "- Explore how to pull data from the Silver Fund Quant data module.\n",
    "- Demonstrate the different properties of returns."
   ]
  },
  {
   "cell_type": "markdown",
   "id": "0a980b29",
   "metadata": {},
   "source": [
    "## Setup\n",
    "\n",
    "In order to have a smooth experience with this lab do the following:\n",
    "\n",
    "### 1. Log into the Fulton Super Computer.\n",
    "\n",
    "In order to log into you must have an account at [https://rc.byu.edu/](https://rc.byu.edu/) and be added to the `grp_quant` group by Brian Boyer.\n",
    "\n",
    "It can take some time to get approved so make sure to create an account and reach out to Brian promptly.\n",
    "\n",
    "### 2. Clone this repo to the desired location (I prefer to have a `Projects` folder where I keep all of my repositories).\n",
    "\n",
    "Clone the repo by running\n",
    "```bash\n",
    "git clone https://github.com/BYUSilverFund/sf-quant-labs.git\n",
    "```\n",
    "\n",
    "### 3. Install `uv` (Package Manager)\n",
    "\n",
    "We use `uv` to create and manage virtual environments.\n",
    "\n",
    "To install `uv` run\n",
    "\n",
    "```bash\n",
    "curl -LsSf https://astral.sh/uv/install.sh | sh\n",
    "```\n",
    "\n",
    "Check that `uv` is installed by running\n",
    "\n",
    "```bash\n",
    "uv --version\n",
    "```\n",
    "\n",
    "If this returns an error you might need to add uv to your path. Run:\n",
    "\n",
    "```bash\n",
    "source $HOME/.local/bin/env\n",
    "```\n",
    "\n",
    "Restart your terminal for the changes to take effect.\n",
    "\n",
    "### 4. Create a Virtual Environment\n",
    "\n",
    "The virtual environment will make it so that we have consistent package and Python versions across all devices.\n",
    "\n",
    "With `uv` it is really easy to create a virtual environment with synced dependencies.\n",
    "\n",
    "Just run\n",
    "\n",
    "```bash\n",
    "uv sync\n",
    "```\n",
    "\n",
    "Activate the environment by running\n",
    "\n",
    "``` bash\n",
    "source .venv/bin/activate\n",
    "```"
   ]
  },
  {
   "cell_type": "markdown",
   "id": "46266d32",
   "metadata": {},
   "source": [
    "## Imports\n",
    "\n",
    "With all of the setup out of the way we will import the necessary Python packages for the lab.\n",
    "\n",
    "- `sf_quant`: Silver Fund Quant Team package that includes modules for loading data, optimizing portfolios, backtesting, and analyzing performance.\n",
    "- `datetime`: Native Python library for creating Python `date` types.\n",
    "- `polars`: Data frame library similar to Pandas but with a much cleaner API and 100x speed ups."
   ]
  },
  {
   "cell_type": "code",
   "execution_count": 2,
   "id": "1e509698",
   "metadata": {},
   "outputs": [
    {
     "name": "stderr",
     "output_type": "stream",
     "text": [
      "/home/kylecm11/silver_fund/sf-quant-labs/.venv/lib64/python3.11/site-packages/tqdm/auto.py:21: TqdmWarning: IProgress not found. Please update jupyter and ipywidgets. See https://ipywidgets.readthedocs.io/en/stable/user_install.html\n",
      "  from .autonotebook import tqdm as notebook_tqdm\n",
      "2025-09-05 12:07:14,932\tINFO util.py:154 -- Missing packages: ['ipywidgets']. Run `pip install -U ipywidgets`, then restart the notebook server for rich notebook output.\n"
     ]
    }
   ],
   "source": [
    "import sf_quant as sf\n",
    "import polars as pl\n",
    "import datetime as dt"
   ]
  },
  {
   "cell_type": "markdown",
   "id": "ce7e2772",
   "metadata": {},
   "source": [
    "## Data\n",
    "\n",
    "Use the following code to pull data for our investment universe from 2024-01-01 to 2024-12-31."
   ]
  },
  {
   "cell_type": "code",
   "execution_count": 9,
   "id": "d2197b25",
   "metadata": {},
   "outputs": [
    {
     "data": {
      "text/plain": [
       "'shape: (31, 2)\\n┌─────────────────────────────────┬─────────┐\\n│ column                          ┆ dtype   │\\n│ ---                             ┆ ---     │\\n│ str                             ┆ str     │\\n╞═════════════════════════════════╪═════════╡\\n│ date                            ┆ Date    │\\n│ rootid                          ┆ String  │\\n│ barrid                          ┆ String  │\\n│ issuerid                        ┆ String  │\\n│ instrument                      ┆ String  │\\n│ name                            ┆ String  │\\n│ cusip                           ┆ String  │\\n│ ticker                          ┆ String  │\\n│ price                           ┆ Float64 │\\n│ return                          ┆ Float64 │\\n│ specific_return                 ┆ Float64 │\\n│ market_cap                      ┆ Float64 │\\n│ price_source                    ┆ String  │\\n│ currency                        ┆ String  │\\n│ iso_country_code                ┆ String  │\\n│ iso_currency_code               ┆ String  │\\n│ yield                           ┆ Float64 │\\n│ total_risk                      ┆ Float64 │\\n│ specific_risk                   ┆ Float64 │\\n│ historical_beta                 ┆ Float64 │\\n│ predicted_beta                  ┆ Float64 │\\n│ russell_1000                    ┆ Boolean │\\n│ russell_2000                    ┆ Boolean │\\n│ daily_volume                    ┆ Float64 │\\n│ average_daily_volume_30         ┆ Float64 │\\n│ average_daily_volume_60         ┆ Float64 │\\n│ average_daily_volume_90         ┆ Float64 │\\n│ bid_ask_spread                  ┆ Float64 │\\n│ average_daily_bid_ask_spread_3… ┆ Float64 │\\n│ average_daily_bid_ask_spread_6… ┆ Float64 │\\n│ average_daily_bid_ask_spread_9… ┆ Float64 │\\n└─────────────────────────────────┴─────────┘'"
      ]
     },
     "execution_count": 9,
     "metadata": {},
     "output_type": "execute_result"
    }
   ],
   "source": [
    "sf.data.get_assets_columns()"
   ]
  },
  {
   "cell_type": "code",
   "execution_count": 3,
   "id": "df5bc083",
   "metadata": {},
   "outputs": [
    {
     "data": {
      "text/html": [
       "<div><style>\n",
       ".dataframe > thead > tr,\n",
       ".dataframe > tbody > tr {\n",
       "  text-align: right;\n",
       "  white-space: pre-wrap;\n",
       "}\n",
       "</style>\n",
       "<small>shape: (739_726, 4)</small><table border=\"1\" class=\"dataframe\"><thead><tr><th>date</th><th>barrid</th><th>return</th><th>price</th></tr><tr><td>date</td><td>str</td><td>f64</td><td>f64</td></tr></thead><tbody><tr><td>2024-01-02</td><td>&quot;USA06Z1&quot;</td><td>-10.2623</td><td>7.87</td></tr><tr><td>2024-01-03</td><td>&quot;USA06Z1&quot;</td><td>-1.2071</td><td>7.775</td></tr><tr><td>2024-01-04</td><td>&quot;USA06Z1&quot;</td><td>-0.1929</td><td>7.76</td></tr><tr><td>2024-01-05</td><td>&quot;USA06Z1&quot;</td><td>0.5155</td><td>7.8</td></tr><tr><td>2024-01-08</td><td>&quot;USA06Z1&quot;</td><td>5.3846</td><td>8.22</td></tr><tr><td>&hellip;</td><td>&hellip;</td><td>&hellip;</td><td>&hellip;</td></tr><tr><td>2024-12-24</td><td>&quot;USBQOR1&quot;</td><td>2.5872</td><td>70.58</td></tr><tr><td>2024-12-26</td><td>&quot;USBQOR1&quot;</td><td>4.293</td><td>73.61</td></tr><tr><td>2024-12-27</td><td>&quot;USBQOR1&quot;</td><td>-5.108</td><td>69.85</td></tr><tr><td>2024-12-30</td><td>&quot;USBQOR1&quot;</td><td>-4.2663</td><td>66.87</td></tr><tr><td>2024-12-31</td><td>&quot;USBQOR1&quot;</td><td>-1.6749</td><td>65.75</td></tr></tbody></table></div>"
      ],
      "text/plain": [
       "shape: (739_726, 4)\n",
       "┌────────────┬─────────┬──────────┬───────┐\n",
       "│ date       ┆ barrid  ┆ return   ┆ price │\n",
       "│ ---        ┆ ---     ┆ ---      ┆ ---   │\n",
       "│ date       ┆ str     ┆ f64      ┆ f64   │\n",
       "╞════════════╪═════════╪══════════╪═══════╡\n",
       "│ 2024-01-02 ┆ USA06Z1 ┆ -10.2623 ┆ 7.87  │\n",
       "│ 2024-01-03 ┆ USA06Z1 ┆ -1.2071  ┆ 7.775 │\n",
       "│ 2024-01-04 ┆ USA06Z1 ┆ -0.1929  ┆ 7.76  │\n",
       "│ 2024-01-05 ┆ USA06Z1 ┆ 0.5155   ┆ 7.8   │\n",
       "│ 2024-01-08 ┆ USA06Z1 ┆ 5.3846   ┆ 8.22  │\n",
       "│ …          ┆ …       ┆ …        ┆ …     │\n",
       "│ 2024-12-24 ┆ USBQOR1 ┆ 2.5872   ┆ 70.58 │\n",
       "│ 2024-12-26 ┆ USBQOR1 ┆ 4.293    ┆ 73.61 │\n",
       "│ 2024-12-27 ┆ USBQOR1 ┆ -5.108   ┆ 69.85 │\n",
       "│ 2024-12-30 ┆ USBQOR1 ┆ -4.2663  ┆ 66.87 │\n",
       "│ 2024-12-31 ┆ USBQOR1 ┆ -1.6749  ┆ 65.75 │\n",
       "└────────────┴─────────┴──────────┴───────┘"
      ]
     },
     "execution_count": 3,
     "metadata": {},
     "output_type": "execute_result"
    }
   ],
   "source": [
    "start = dt.date(2024, 1, 1)\n",
    "end = dt.date(2024, 12, 31)\n",
    "\n",
    "columns = [\n",
    "    'date',\n",
    "    'barrid',\n",
    "    'return',\n",
    "    'price'\n",
    "]\n",
    "\n",
    "df = sf.data.load_assets(\n",
    "    start=start,\n",
    "    end=end,\n",
    "    in_universe=True,\n",
    "    columns=columns\n",
    ")\n",
    "\n",
    "df"
   ]
  },
  {
   "cell_type": "code",
   "execution_count": 10,
   "id": "4be0ed13",
   "metadata": {},
   "outputs": [
    {
     "data": {
      "text/html": [
       "<div><style>\n",
       ".dataframe > thead > tr,\n",
       ".dataframe > tbody > tr {\n",
       "  text-align: right;\n",
       "  white-space: pre-wrap;\n",
       "}\n",
       "</style>\n",
       "<small>shape: (739_726, 6)</small><table border=\"1\" class=\"dataframe\"><thead><tr><th>date</th><th>barrid</th><th>return</th><th>price</th><th>price_diff</th><th>price_change</th></tr><tr><td>date</td><td>str</td><td>f64</td><td>f64</td><td>f64</td><td>f64</td></tr></thead><tbody><tr><td>2024-01-02</td><td>&quot;USA06Z1&quot;</td><td>-10.2623</td><td>7.87</td><td>null</td><td>null</td></tr><tr><td>2024-01-03</td><td>&quot;USA06Z1&quot;</td><td>-1.2071</td><td>7.775</td><td>-0.095</td><td>-0.012071</td></tr><tr><td>2024-01-04</td><td>&quot;USA06Z1&quot;</td><td>-0.1929</td><td>7.76</td><td>-0.015</td><td>-0.001929</td></tr><tr><td>2024-01-05</td><td>&quot;USA06Z1&quot;</td><td>0.5155</td><td>7.8</td><td>0.04</td><td>0.005155</td></tr><tr><td>2024-01-08</td><td>&quot;USA06Z1&quot;</td><td>5.3846</td><td>8.22</td><td>0.42</td><td>0.053846</td></tr><tr><td>&hellip;</td><td>&hellip;</td><td>&hellip;</td><td>&hellip;</td><td>&hellip;</td><td>&hellip;</td></tr><tr><td>2024-12-24</td><td>&quot;USBQOR1&quot;</td><td>2.5872</td><td>70.58</td><td>1.78</td><td>0.025872</td></tr><tr><td>2024-12-26</td><td>&quot;USBQOR1&quot;</td><td>4.293</td><td>73.61</td><td>3.03</td><td>0.04293</td></tr><tr><td>2024-12-27</td><td>&quot;USBQOR1&quot;</td><td>-5.108</td><td>69.85</td><td>-3.76</td><td>-0.05108</td></tr><tr><td>2024-12-30</td><td>&quot;USBQOR1&quot;</td><td>-4.2663</td><td>66.87</td><td>-2.98</td><td>-0.042663</td></tr><tr><td>2024-12-31</td><td>&quot;USBQOR1&quot;</td><td>-1.6749</td><td>65.75</td><td>-1.12</td><td>-0.016749</td></tr></tbody></table></div>"
      ],
      "text/plain": [
       "shape: (739_726, 6)\n",
       "┌────────────┬─────────┬──────────┬───────┬────────────┬──────────────┐\n",
       "│ date       ┆ barrid  ┆ return   ┆ price ┆ price_diff ┆ price_change │\n",
       "│ ---        ┆ ---     ┆ ---      ┆ ---   ┆ ---        ┆ ---          │\n",
       "│ date       ┆ str     ┆ f64      ┆ f64   ┆ f64        ┆ f64          │\n",
       "╞════════════╪═════════╪══════════╪═══════╪════════════╪══════════════╡\n",
       "│ 2024-01-02 ┆ USA06Z1 ┆ -10.2623 ┆ 7.87  ┆ null       ┆ null         │\n",
       "│ 2024-01-03 ┆ USA06Z1 ┆ -1.2071  ┆ 7.775 ┆ -0.095     ┆ -0.012071    │\n",
       "│ 2024-01-04 ┆ USA06Z1 ┆ -0.1929  ┆ 7.76  ┆ -0.015     ┆ -0.001929    │\n",
       "│ 2024-01-05 ┆ USA06Z1 ┆ 0.5155   ┆ 7.8   ┆ 0.04       ┆ 0.005155     │\n",
       "│ 2024-01-08 ┆ USA06Z1 ┆ 5.3846   ┆ 8.22  ┆ 0.42       ┆ 0.053846     │\n",
       "│ …          ┆ …       ┆ …        ┆ …     ┆ …          ┆ …            │\n",
       "│ 2024-12-24 ┆ USBQOR1 ┆ 2.5872   ┆ 70.58 ┆ 1.78       ┆ 0.025872     │\n",
       "│ 2024-12-26 ┆ USBQOR1 ┆ 4.293    ┆ 73.61 ┆ 3.03       ┆ 0.04293      │\n",
       "│ 2024-12-27 ┆ USBQOR1 ┆ -5.108   ┆ 69.85 ┆ -3.76      ┆ -0.05108     │\n",
       "│ 2024-12-30 ┆ USBQOR1 ┆ -4.2663  ┆ 66.87 ┆ -2.98      ┆ -0.042663    │\n",
       "│ 2024-12-31 ┆ USBQOR1 ┆ -1.6749  ┆ 65.75 ┆ -1.12      ┆ -0.016749    │\n",
       "└────────────┴─────────┴──────────┴───────┴────────────┴──────────────┘"
      ]
     },
     "execution_count": 10,
     "metadata": {},
     "output_type": "execute_result"
    }
   ],
   "source": [
    "df = df.with_columns(pl.col(\"price\").pct_change().alias(\"price_change\"))\n",
    "df"
   ]
  },
  {
   "cell_type": "markdown",
   "id": "03fca7cd",
   "metadata": {},
   "source": [
    "## Log returns\n",
    "\n",
    "### Instructions\n",
    "1. Compute the log returns for each asset.\n",
    "2. Compute the cummulative log returns for each asset.\n",
    "3. Run the assertion cell to make sure you're results are correct.\n",
    "\n",
    "Make sure to sort prior to computing time series metrics and use `.over()` apply the computation in groups.\n",
    "\n",
    "Log returns have the nice property of being additive. Use this to your advantage!"
   ]
  },
  {
   "cell_type": "code",
   "execution_count": 11,
   "id": "325acff5",
   "metadata": {},
   "outputs": [
    {
     "data": {
      "text/html": [
       "<div><style>\n",
       ".dataframe > thead > tr,\n",
       ".dataframe > tbody > tr {\n",
       "  text-align: right;\n",
       "  white-space: pre-wrap;\n",
       "}\n",
       "</style>\n",
       "<small>shape: (739_726, 7)</small><table border=\"1\" class=\"dataframe\"><thead><tr><th>date</th><th>barrid</th><th>return</th><th>price</th><th>price_diff</th><th>price_change</th><th>log_return</th></tr><tr><td>date</td><td>str</td><td>f64</td><td>f64</td><td>f64</td><td>f64</td><td>f64</td></tr></thead><tbody><tr><td>2024-01-02</td><td>&quot;USA06Z1&quot;</td><td>-10.2623</td><td>7.87</td><td>null</td><td>null</td><td>-0.108279</td></tr><tr><td>2024-01-03</td><td>&quot;USA06Z1&quot;</td><td>-1.2071</td><td>7.775</td><td>-0.095</td><td>-0.012071</td><td>-0.012144</td></tr><tr><td>2024-01-04</td><td>&quot;USA06Z1&quot;</td><td>-0.1929</td><td>7.76</td><td>-0.015</td><td>-0.001929</td><td>-0.001931</td></tr><tr><td>2024-01-05</td><td>&quot;USA06Z1&quot;</td><td>0.5155</td><td>7.8</td><td>0.04</td><td>0.005155</td><td>0.005142</td></tr><tr><td>2024-01-08</td><td>&quot;USA06Z1&quot;</td><td>5.3846</td><td>8.22</td><td>0.42</td><td>0.053846</td><td>0.052446</td></tr><tr><td>&hellip;</td><td>&hellip;</td><td>&hellip;</td><td>&hellip;</td><td>&hellip;</td><td>&hellip;</td><td>&hellip;</td></tr><tr><td>2024-12-24</td><td>&quot;USBQOR1&quot;</td><td>2.5872</td><td>70.58</td><td>1.78</td><td>0.025872</td><td>0.025543</td></tr><tr><td>2024-12-26</td><td>&quot;USBQOR1&quot;</td><td>4.293</td><td>73.61</td><td>3.03</td><td>0.04293</td><td>0.042034</td></tr><tr><td>2024-12-27</td><td>&quot;USBQOR1&quot;</td><td>-5.108</td><td>69.85</td><td>-3.76</td><td>-0.05108</td><td>-0.052431</td></tr><tr><td>2024-12-30</td><td>&quot;USBQOR1&quot;</td><td>-4.2663</td><td>66.87</td><td>-2.98</td><td>-0.042663</td><td>-0.0436</td></tr><tr><td>2024-12-31</td><td>&quot;USBQOR1&quot;</td><td>-1.6749</td><td>65.75</td><td>-1.12</td><td>-0.016749</td><td>-0.016891</td></tr></tbody></table></div>"
      ],
      "text/plain": [
       "shape: (739_726, 7)\n",
       "┌────────────┬─────────┬──────────┬───────┬────────────┬──────────────┬────────────┐\n",
       "│ date       ┆ barrid  ┆ return   ┆ price ┆ price_diff ┆ price_change ┆ log_return │\n",
       "│ ---        ┆ ---     ┆ ---      ┆ ---   ┆ ---        ┆ ---          ┆ ---        │\n",
       "│ date       ┆ str     ┆ f64      ┆ f64   ┆ f64        ┆ f64          ┆ f64        │\n",
       "╞════════════╪═════════╪══════════╪═══════╪════════════╪══════════════╪════════════╡\n",
       "│ 2024-01-02 ┆ USA06Z1 ┆ -10.2623 ┆ 7.87  ┆ null       ┆ null         ┆ -0.108279  │\n",
       "│ 2024-01-03 ┆ USA06Z1 ┆ -1.2071  ┆ 7.775 ┆ -0.095     ┆ -0.012071    ┆ -0.012144  │\n",
       "│ 2024-01-04 ┆ USA06Z1 ┆ -0.1929  ┆ 7.76  ┆ -0.015     ┆ -0.001929    ┆ -0.001931  │\n",
       "│ 2024-01-05 ┆ USA06Z1 ┆ 0.5155   ┆ 7.8   ┆ 0.04       ┆ 0.005155     ┆ 0.005142   │\n",
       "│ 2024-01-08 ┆ USA06Z1 ┆ 5.3846   ┆ 8.22  ┆ 0.42       ┆ 0.053846     ┆ 0.052446   │\n",
       "│ …          ┆ …       ┆ …        ┆ …     ┆ …          ┆ …            ┆ …          │\n",
       "│ 2024-12-24 ┆ USBQOR1 ┆ 2.5872   ┆ 70.58 ┆ 1.78       ┆ 0.025872     ┆ 0.025543   │\n",
       "│ 2024-12-26 ┆ USBQOR1 ┆ 4.293    ┆ 73.61 ┆ 3.03       ┆ 0.04293      ┆ 0.042034   │\n",
       "│ 2024-12-27 ┆ USBQOR1 ┆ -5.108   ┆ 69.85 ┆ -3.76      ┆ -0.05108     ┆ -0.052431  │\n",
       "│ 2024-12-30 ┆ USBQOR1 ┆ -4.2663  ┆ 66.87 ┆ -2.98      ┆ -0.042663    ┆ -0.0436    │\n",
       "│ 2024-12-31 ┆ USBQOR1 ┆ -1.6749  ┆ 65.75 ┆ -1.12      ┆ -0.016749    ┆ -0.016891  │\n",
       "└────────────┴─────────┴──────────┴───────┴────────────┴──────────────┴────────────┘"
      ]
     },
     "execution_count": 11,
     "metadata": {},
     "output_type": "execute_result"
    }
   ],
   "source": [
    "def task_compute_log_returns(df: pl.DataFrame) -> pl.DataFrame:\n",
    "    \"\"\"\n",
    "    Compute the log returns for each security and date combo.\n",
    "\n",
    "    Args:\n",
    "        df (pl.DataFrame): Data frame containing columns date, barrid, and return\n",
    "\n",
    "    Returns:\n",
    "        pl.DataFrame: Data frame containing columns date, barrid, return, and log_return\n",
    "    \"\"\"\n",
    "\n",
    "    # TODO: Finish this function\n",
    "    df = df.sort(by=[\"barrid\", \"date\"])\n",
    "\n",
    "    df = df.with_columns(\n",
    "        (pl.col(\"return\") / 100 + 1).log().alias(\"log_return\")\n",
    "    )\n",
    "\n",
    "    return df\n",
    "\n",
    "df_log = task_compute_log_returns(df)\n",
    "\n",
    "df_log"
   ]
  },
  {
   "cell_type": "code",
   "execution_count": 12,
   "id": "84ca93d1",
   "metadata": {},
   "outputs": [
    {
     "data": {
      "text/html": [
       "<div><style>\n",
       ".dataframe > thead > tr,\n",
       ".dataframe > tbody > tr {\n",
       "  text-align: right;\n",
       "  white-space: pre-wrap;\n",
       "}\n",
       "</style>\n",
       "<small>shape: (739_726, 8)</small><table border=\"1\" class=\"dataframe\"><thead><tr><th>date</th><th>barrid</th><th>return</th><th>price</th><th>price_diff</th><th>price_change</th><th>log_return</th><th>cumulative_log_return</th></tr><tr><td>date</td><td>str</td><td>f64</td><td>f64</td><td>f64</td><td>f64</td><td>f64</td><td>f64</td></tr></thead><tbody><tr><td>2024-01-02</td><td>&quot;USA06Z1&quot;</td><td>-10.2623</td><td>7.87</td><td>null</td><td>null</td><td>-0.108279</td><td>-0.108279</td></tr><tr><td>2024-01-03</td><td>&quot;USA06Z1&quot;</td><td>-1.2071</td><td>7.775</td><td>-0.095</td><td>-0.012071</td><td>-0.012144</td><td>-0.120424</td></tr><tr><td>2024-01-04</td><td>&quot;USA06Z1&quot;</td><td>-0.1929</td><td>7.76</td><td>-0.015</td><td>-0.001929</td><td>-0.001931</td><td>-0.122355</td></tr><tr><td>2024-01-05</td><td>&quot;USA06Z1&quot;</td><td>0.5155</td><td>7.8</td><td>0.04</td><td>0.005155</td><td>0.005142</td><td>-0.117213</td></tr><tr><td>2024-01-08</td><td>&quot;USA06Z1&quot;</td><td>5.3846</td><td>8.22</td><td>0.42</td><td>0.053846</td><td>0.052446</td><td>-0.064766</td></tr><tr><td>&hellip;</td><td>&hellip;</td><td>&hellip;</td><td>&hellip;</td><td>&hellip;</td><td>&hellip;</td><td>&hellip;</td><td>&hellip;</td></tr><tr><td>2024-12-24</td><td>&quot;USBQOR1&quot;</td><td>2.5872</td><td>70.58</td><td>1.78</td><td>0.025872</td><td>0.025543</td><td>0.087605</td></tr><tr><td>2024-12-26</td><td>&quot;USBQOR1&quot;</td><td>4.293</td><td>73.61</td><td>3.03</td><td>0.04293</td><td>0.042034</td><td>0.129639</td></tr><tr><td>2024-12-27</td><td>&quot;USBQOR1&quot;</td><td>-5.108</td><td>69.85</td><td>-3.76</td><td>-0.05108</td><td>-0.052431</td><td>0.077208</td></tr><tr><td>2024-12-30</td><td>&quot;USBQOR1&quot;</td><td>-4.2663</td><td>66.87</td><td>-2.98</td><td>-0.042663</td><td>-0.0436</td><td>0.033608</td></tr><tr><td>2024-12-31</td><td>&quot;USBQOR1&quot;</td><td>-1.6749</td><td>65.75</td><td>-1.12</td><td>-0.016749</td><td>-0.016891</td><td>0.016717</td></tr></tbody></table></div>"
      ],
      "text/plain": [
       "shape: (739_726, 8)\n",
       "┌────────────┬─────────┬──────────┬───────┬────────────┬──────────────┬────────────┬───────────────┐\n",
       "│ date       ┆ barrid  ┆ return   ┆ price ┆ price_diff ┆ price_change ┆ log_return ┆ cumulative_lo │\n",
       "│ ---        ┆ ---     ┆ ---      ┆ ---   ┆ ---        ┆ ---          ┆ ---        ┆ g_return      │\n",
       "│ date       ┆ str     ┆ f64      ┆ f64   ┆ f64        ┆ f64          ┆ f64        ┆ ---           │\n",
       "│            ┆         ┆          ┆       ┆            ┆              ┆            ┆ f64           │\n",
       "╞════════════╪═════════╪══════════╪═══════╪════════════╪══════════════╪════════════╪═══════════════╡\n",
       "│ 2024-01-02 ┆ USA06Z1 ┆ -10.2623 ┆ 7.87  ┆ null       ┆ null         ┆ -0.108279  ┆ -0.108279     │\n",
       "│ 2024-01-03 ┆ USA06Z1 ┆ -1.2071  ┆ 7.775 ┆ -0.095     ┆ -0.012071    ┆ -0.012144  ┆ -0.120424     │\n",
       "│ 2024-01-04 ┆ USA06Z1 ┆ -0.1929  ┆ 7.76  ┆ -0.015     ┆ -0.001929    ┆ -0.001931  ┆ -0.122355     │\n",
       "│ 2024-01-05 ┆ USA06Z1 ┆ 0.5155   ┆ 7.8   ┆ 0.04       ┆ 0.005155     ┆ 0.005142   ┆ -0.117213     │\n",
       "│ 2024-01-08 ┆ USA06Z1 ┆ 5.3846   ┆ 8.22  ┆ 0.42       ┆ 0.053846     ┆ 0.052446   ┆ -0.064766     │\n",
       "│ …          ┆ …       ┆ …        ┆ …     ┆ …          ┆ …            ┆ …          ┆ …             │\n",
       "│ 2024-12-24 ┆ USBQOR1 ┆ 2.5872   ┆ 70.58 ┆ 1.78       ┆ 0.025872     ┆ 0.025543   ┆ 0.087605      │\n",
       "│ 2024-12-26 ┆ USBQOR1 ┆ 4.293    ┆ 73.61 ┆ 3.03       ┆ 0.04293      ┆ 0.042034   ┆ 0.129639      │\n",
       "│ 2024-12-27 ┆ USBQOR1 ┆ -5.108   ┆ 69.85 ┆ -3.76      ┆ -0.05108     ┆ -0.052431  ┆ 0.077208      │\n",
       "│ 2024-12-30 ┆ USBQOR1 ┆ -4.2663  ┆ 66.87 ┆ -2.98      ┆ -0.042663    ┆ -0.0436    ┆ 0.033608      │\n",
       "│ 2024-12-31 ┆ USBQOR1 ┆ -1.6749  ┆ 65.75 ┆ -1.12      ┆ -0.016749    ┆ -0.016891  ┆ 0.016717      │\n",
       "└────────────┴─────────┴──────────┴───────┴────────────┴──────────────┴────────────┴───────────────┘"
      ]
     },
     "execution_count": 12,
     "metadata": {},
     "output_type": "execute_result"
    }
   ],
   "source": [
    "def task_compute_cumulative_log_returns(df_log: pl.DataFrame) -> pl.DataFrame:\n",
    "    \"\"\"\n",
    "    Compute the cummulative log returns for each security and date combo.\n",
    "\n",
    "    Args:\n",
    "        df_log (pl.DataFrame): Data frame containing columns date, barrid, return, and log_return\n",
    "\n",
    "    Returns:\n",
    "        pl.DataFrame: Data frame containing columns date, barrid, return, log_return, and cumulative_log_return\n",
    "    \"\"\"\n",
    "\n",
    "    # TODO: Finish this function\n",
    "\n",
    "    df = df_log.sort(by=[\"barrid\", \"date\"])\n",
    "    df = df.with_columns(pl.col(\"log_return\").cum_sum().over(\"barrid\").alias(\"cumulative_log_return\"))\n",
    "\n",
    "    return df\n",
    "\n",
    "df_cum_log = task_compute_cumulative_log_returns(df_log)\n",
    "\n",
    "df_cum_log"
   ]
  },
  {
   "cell_type": "code",
   "execution_count": 13,
   "id": "9fe28dcf",
   "metadata": {},
   "outputs": [
    {
     "data": {
      "text/plain": [
       "2.8475532093020552"
      ]
     },
     "execution_count": 13,
     "metadata": {},
     "output_type": "execute_result"
    }
   ],
   "source": [
    "df_cum_log['cumulative_log_return'].max()"
   ]
  },
  {
   "cell_type": "code",
   "execution_count": null,
   "id": "b478070e",
   "metadata": {},
   "outputs": [],
   "source": [
    "assert df_cum_log['cumulative_log_return'].max() == 2.8475532093020557"
   ]
  },
  {
   "cell_type": "markdown",
   "id": "8215914b",
   "metadata": {},
   "source": [
    "## Compounded Returns\n",
    "\n",
    "### Instructions\n",
    "\n",
    "1. Compute the cumulative compounded returns for each asset.\n",
    "2. Run the assertion to check that your results are correct."
   ]
  },
  {
   "cell_type": "code",
   "execution_count": null,
   "id": "13bd8e94",
   "metadata": {},
   "outputs": [],
   "source": [
    "def task_compute_cumulative_compounded_returns(df_cum_log: pl.DataFrame) -> pl.DataFrame:\n",
    "    \"\"\"\n",
    "    Compute the cumulative compounded returns for each security.\n",
    "\n",
    "    Args:\n",
    "        df_cum_log (pl.DataFrame): Data frame containing columns date, barrid, return, log_return, and cumulative_log_return\n",
    "\n",
    "    Returns:\n",
    "        pl.DataFrame: Data frame containing columns date, barrid, return, log_return, cumulative_log_return, and cumulative_compouned_return\n",
    "    \"\"\"\n",
    "\n",
    "    # TODO: Finish this function\n",
    "\n",
    "    pass\n",
    "\n",
    "df_cum_comp = task_compute_cumulative_compounded_returns(df_cum_log)\n",
    "\n",
    "df_cum_comp"
   ]
  },
  {
   "cell_type": "code",
   "execution_count": null,
   "id": "dbbfe073",
   "metadata": {},
   "outputs": [],
   "source": [
    "assert df_cum_comp['cumulative_compounded_return'].max() == 16.245533963705515"
   ]
  },
  {
   "cell_type": "markdown",
   "id": "f29e5907",
   "metadata": {},
   "source": [
    "## Exponentiation\n",
    "\n",
    "Note that the max cumulative log return is different from the cumulative compounded return.\n",
    "\n",
    "Why is that?\n",
    "\n",
    "The answer is that the cumulative log return is still in log space!\n",
    "\n",
    "### Instructions\n",
    "\n",
    "1. Exponentiate the cumulative log returns to put them back into the original space.\n",
    "2. Check that the exponentiated returns match the cumulative compounded returns."
   ]
  },
  {
   "cell_type": "code",
   "execution_count": null,
   "id": "22518ecd",
   "metadata": {},
   "outputs": [],
   "source": [
    "def task_exponentiate_returns(df_cum_comp: pl.DataFrame) -> pl.DataFrame:\n",
    "    \"\"\"\n",
    "    Exponentiate the cumulative log returns.\n",
    "\n",
    "    Args:\n",
    "        df_cum_comp: Data frame containing date, barrid, return, log_return, cumulative_log_return, and cumulative_compouned_return.\n",
    "\n",
    "    Returns:\n",
    "        pl.DataFrame: Data frame containing all previous columns plus exponentiated_returns\n",
    "    \"\"\"\n",
    "\n",
    "    # TODO: Finish this function\n",
    "\n",
    "    pass\n",
    "\n",
    "df_exp = task_exponentiate_returns(df_cum_comp)\n",
    "\n",
    "df_exp"
   ]
  },
  {
   "cell_type": "code",
   "execution_count": null,
   "id": "3f01babb",
   "metadata": {},
   "outputs": [],
   "source": [
    "assert df_exp['cumulative_compounded_return'].max() == df_exp['exponentiated_return'].max()"
   ]
  },
  {
   "cell_type": "code",
   "execution_count": 10,
   "id": "e013c6f9",
   "metadata": {},
   "outputs": [],
   "source": [
    "import numpy as np\n"
   ]
  },
  {
   "cell_type": "code",
   "execution_count": 16,
   "id": "fcfb05ba",
   "metadata": {},
   "outputs": [
    {
     "data": {
      "text/plain": [
       "np.float64(0.20199009876724155)"
      ]
     },
     "execution_count": 16,
     "metadata": {},
     "output_type": "execute_result"
    }
   ],
   "source": [
    "w = np.array([.4, .6])\n",
    "r = np.array([.10, .05])\n",
    "\n",
    "Cov = np.array([[0.09, 0.025], [0.025, 0.04]])\n",
    "\n",
    "np.sqrt(w.T @ Cov @ w)"
   ]
  },
  {
   "cell_type": "code",
   "execution_count": 18,
   "id": "d25f6ad6",
   "metadata": {},
   "outputs": [
    {
     "data": {
      "text/plain": [
       "np.float64(0.34655164004183603)"
      ]
     },
     "execution_count": 18,
     "metadata": {},
     "output_type": "execute_result"
    }
   ],
   "source": [
    "w.T @ r / np.sqrt(w.T @ Cov @ w)\n"
   ]
  }
 ],
 "metadata": {
  "kernelspec": {
   "display_name": "sf-quant-labs",
   "language": "python",
   "name": "python3"
  },
  "language_info": {
   "codemirror_mode": {
    "name": "ipython",
    "version": 3
   },
   "file_extension": ".py",
   "mimetype": "text/x-python",
   "name": "python",
   "nbconvert_exporter": "python",
   "pygments_lexer": "ipython3",
   "version": "3.11.7"
  }
 },
 "nbformat": 4,
 "nbformat_minor": 5
}
