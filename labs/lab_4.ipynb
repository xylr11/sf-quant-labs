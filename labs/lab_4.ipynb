{
 "cells": [
  {
   "cell_type": "markdown",
   "id": "18898123",
   "metadata": {},
   "source": [
    "# Lab 4: Momentum II\n",
    "\n",
    "In the last lab we explored how to backtest decile portfolio style trading strategies. In this lab we will explore how to backtest portfolios that are optimized each period to maximize alpha while minimizing variance. "
   ]
  },
  {
   "cell_type": "markdown",
   "id": "99c1f288",
   "metadata": {},
   "source": [
    "## Imports"
   ]
  },
  {
   "cell_type": "code",
   "execution_count": 2,
   "id": "3319359d",
   "metadata": {},
   "outputs": [
    {
     "name": "stderr",
     "output_type": "stream",
     "text": [
      "/home/kylecm11/silver_fund/sf-quant-labs/.venv/lib64/python3.11/site-packages/tqdm/auto.py:21: TqdmWarning: IProgress not found. Please update jupyter and ipywidgets. See https://ipywidgets.readthedocs.io/en/stable/user_install.html\n",
      "  from .autonotebook import tqdm as notebook_tqdm\n",
      "2025-09-16 22:49:36,286\tINFO util.py:154 -- Missing packages: ['ipywidgets']. Run `pip install -U ipywidgets`, then restart the notebook server for rich notebook output.\n"
     ]
    }
   ],
   "source": [
    "import sf_quant.data as sfd\n",
    "import sf_quant.optimizer as sfo\n",
    "import sf_quant.backtester as sfb\n",
    "import sf_quant.performance as sfp\n",
    "import polars as pl\n",
    "import datetime as dt\n",
    "import matplotlib.pyplot as plt\n",
    "import seaborn as sns\n",
    "import tqdm"
   ]
  },
  {
   "cell_type": "markdown",
   "id": "6fa4f703",
   "metadata": {},
   "source": [
    "## Data\n",
    "\n",
    "We import the necessary data for you here. We will be doing a backtest from 2023-01-01 to 2024-01-31. However since our signal takes 1 year to compute, we will really only be backtesting 1 month of data."
   ]
  },
  {
   "cell_type": "code",
   "execution_count": 5,
   "id": "f97a4213",
   "metadata": {},
   "outputs": [
    {
     "data": {
      "text/html": [
       "<div><style>\n",
       ".dataframe > thead > tr,\n",
       ".dataframe > tbody > tr {\n",
       "  text-align: right;\n",
       "  white-space: pre-wrap;\n",
       "}\n",
       "</style>\n",
       "<small>shape: (796_990, 7)</small><table border=\"1\" class=\"dataframe\"><thead><tr><th>date</th><th>barrid</th><th>ticker</th><th>price</th><th>return</th><th>specific_risk</th><th>predicted_beta</th></tr><tr><td>date</td><td>str</td><td>str</td><td>f64</td><td>f64</td><td>f64</td><td>f64</td></tr></thead><tbody><tr><td>2023-01-03</td><td>&quot;USA06Z1&quot;</td><td>&quot;MDXG&quot;</td><td>2.97</td><td>6.8345</td><td>47.65898</td><td>1.43155</td></tr><tr><td>2023-01-04</td><td>&quot;USA06Z1&quot;</td><td>&quot;MDXG&quot;</td><td>3.0</td><td>1.0101</td><td>47.539847</td><td>1.428854</td></tr><tr><td>2023-01-05</td><td>&quot;USA06Z1&quot;</td><td>&quot;MDXG&quot;</td><td>3.08</td><td>2.6667</td><td>47.755957</td><td>1.37346</td></tr><tr><td>2023-01-06</td><td>&quot;USA06Z1&quot;</td><td>&quot;MDXG&quot;</td><td>3.21</td><td>4.2208</td><td>48.110135</td><td>1.389274</td></tr><tr><td>2023-01-09</td><td>&quot;USA06Z1&quot;</td><td>&quot;MDXG&quot;</td><td>3.28</td><td>2.1807</td><td>48.612414</td><td>1.348687</td></tr><tr><td>&hellip;</td><td>&hellip;</td><td>&hellip;</td><td>&hellip;</td><td>&hellip;</td><td>&hellip;</td><td>&hellip;</td></tr><tr><td>2024-01-25</td><td>&quot;USBPM41&quot;</td><td>&quot;WS&quot;</td><td>29.38</td><td>-0.3054</td><td>50.968819</td><td>1.408389</td></tr><tr><td>2024-01-26</td><td>&quot;USBPM41&quot;</td><td>&quot;WS&quot;</td><td>29.58</td><td>0.6807</td><td>50.922137</td><td>1.40225</td></tr><tr><td>2024-01-29</td><td>&quot;USBPM41&quot;</td><td>&quot;WS&quot;</td><td>30.28</td><td>2.3665</td><td>50.93332</td><td>1.395143</td></tr><tr><td>2024-01-30</td><td>&quot;USBPM41&quot;</td><td>&quot;WS&quot;</td><td>30.64</td><td>1.1889</td><td>50.438011</td><td>1.380131</td></tr><tr><td>2024-01-31</td><td>&quot;USBPM41&quot;</td><td>&quot;WS&quot;</td><td>29.95</td><td>-2.252</td><td>50.111001</td><td>1.343932</td></tr></tbody></table></div>"
      ],
      "text/plain": [
       "shape: (796_990, 7)\n",
       "┌────────────┬─────────┬────────┬───────┬─────────┬───────────────┬────────────────┐\n",
       "│ date       ┆ barrid  ┆ ticker ┆ price ┆ return  ┆ specific_risk ┆ predicted_beta │\n",
       "│ ---        ┆ ---     ┆ ---    ┆ ---   ┆ ---     ┆ ---           ┆ ---            │\n",
       "│ date       ┆ str     ┆ str    ┆ f64   ┆ f64     ┆ f64           ┆ f64            │\n",
       "╞════════════╪═════════╪════════╪═══════╪═════════╪═══════════════╪════════════════╡\n",
       "│ 2023-01-03 ┆ USA06Z1 ┆ MDXG   ┆ 2.97  ┆ 6.8345  ┆ 47.65898      ┆ 1.43155        │\n",
       "│ 2023-01-04 ┆ USA06Z1 ┆ MDXG   ┆ 3.0   ┆ 1.0101  ┆ 47.539847     ┆ 1.428854       │\n",
       "│ 2023-01-05 ┆ USA06Z1 ┆ MDXG   ┆ 3.08  ┆ 2.6667  ┆ 47.755957     ┆ 1.37346        │\n",
       "│ 2023-01-06 ┆ USA06Z1 ┆ MDXG   ┆ 3.21  ┆ 4.2208  ┆ 48.110135     ┆ 1.389274       │\n",
       "│ 2023-01-09 ┆ USA06Z1 ┆ MDXG   ┆ 3.28  ┆ 2.1807  ┆ 48.612414     ┆ 1.348687       │\n",
       "│ …          ┆ …       ┆ …      ┆ …     ┆ …       ┆ …             ┆ …              │\n",
       "│ 2024-01-25 ┆ USBPM41 ┆ WS     ┆ 29.38 ┆ -0.3054 ┆ 50.968819     ┆ 1.408389       │\n",
       "│ 2024-01-26 ┆ USBPM41 ┆ WS     ┆ 29.58 ┆ 0.6807  ┆ 50.922137     ┆ 1.40225        │\n",
       "│ 2024-01-29 ┆ USBPM41 ┆ WS     ┆ 30.28 ┆ 2.3665  ┆ 50.93332      ┆ 1.395143       │\n",
       "│ 2024-01-30 ┆ USBPM41 ┆ WS     ┆ 30.64 ┆ 1.1889  ┆ 50.438011     ┆ 1.380131       │\n",
       "│ 2024-01-31 ┆ USBPM41 ┆ WS     ┆ 29.95 ┆ -2.252  ┆ 50.111001     ┆ 1.343932       │\n",
       "└────────────┴─────────┴────────┴───────┴─────────┴───────────────┴────────────────┘"
      ]
     },
     "execution_count": 5,
     "metadata": {},
     "output_type": "execute_result"
    }
   ],
   "source": [
    "start = dt.date(2023, 1, 1)\n",
    "end = dt.date(2024, 1, 31)\n",
    "\n",
    "columns = [\n",
    "    'date',\n",
    "    'barrid',\n",
    "    'ticker',\n",
    "    'price',\n",
    "    'return',\n",
    "    'specific_risk',\n",
    "    'predicted_beta'\n",
    "]\n",
    "\n",
    "data = sfd.load_assets(\n",
    "    start=start,\n",
    "    end=end,\n",
    "    in_universe=True,\n",
    "    columns=columns\n",
    ")\n",
    "\n",
    "data"
   ]
  },
  {
   "cell_type": "markdown",
   "id": "d4b6583f",
   "metadata": {},
   "source": [
    "## Compute the Momentum Signal\n",
    "\n",
    "## Instructions\n",
    "\n",
    "- Compute momentum for each security and date as the rolling 230 day return (you can just use log returns here).\n",
    "- Shift the momentum signal 22 days. This will results in the 11 month return from t-12 to t-2."
   ]
  },
  {
   "cell_type": "code",
   "execution_count": 6,
   "id": "10e368fb",
   "metadata": {},
   "outputs": [
    {
     "data": {
      "text/html": [
       "<div><style>\n",
       ".dataframe > thead > tr,\n",
       ".dataframe > tbody > tr {\n",
       "  text-align: right;\n",
       "  white-space: pre-wrap;\n",
       "}\n",
       "</style>\n",
       "<small>shape: (52_865, 8)</small><table border=\"1\" class=\"dataframe\"><thead><tr><th>date</th><th>barrid</th><th>ticker</th><th>price</th><th>return</th><th>specific_risk</th><th>predicted_beta</th><th>momentum</th></tr><tr><td>date</td><td>str</td><td>str</td><td>f64</td><td>f64</td><td>f64</td><td>f64</td><td>f64</td></tr></thead><tbody><tr><td>2024-01-03</td><td>&quot;USA06Z1&quot;</td><td>&quot;MDXG&quot;</td><td>7.775</td><td>-1.2071</td><td>49.827621</td><td>1.092049</td><td>1.027828</td></tr><tr><td>2024-01-04</td><td>&quot;USA06Z1&quot;</td><td>&quot;MDXG&quot;</td><td>7.76</td><td>-0.1929</td><td>49.746256</td><td>1.098982</td><td>0.989638</td></tr><tr><td>2024-01-05</td><td>&quot;USA06Z1&quot;</td><td>&quot;MDXG&quot;</td><td>7.8</td><td>0.5155</td><td>49.535456</td><td>1.063097</td><td>0.979587</td></tr><tr><td>2024-01-08</td><td>&quot;USA06Z1&quot;</td><td>&quot;MDXG&quot;</td><td>8.22</td><td>5.3846</td><td>49.435238</td><td>1.085788</td><td>0.936866</td></tr><tr><td>2024-01-09</td><td>&quot;USA06Z1&quot;</td><td>&quot;MDXG&quot;</td><td>8.03</td><td>-2.3114</td><td>49.468538</td><td>1.182189</td><td>0.896796</td></tr><tr><td>&hellip;</td><td>&hellip;</td><td>&hellip;</td><td>&hellip;</td><td>&hellip;</td><td>&hellip;</td><td>&hellip;</td><td>&hellip;</td></tr><tr><td>2024-01-29</td><td>&quot;USBONP1&quot;</td><td>&quot;MBC&quot;</td><td>14.65</td><td>2.2331</td><td>31.740028</td><td>1.346623</td><td>0.526594</td></tr><tr><td>2024-01-30</td><td>&quot;USBONP1&quot;</td><td>&quot;MBC&quot;</td><td>14.59</td><td>-0.4096</td><td>31.712842</td><td>1.334121</td><td>0.502256</td></tr><tr><td>2024-01-31</td><td>&quot;USBONP1&quot;</td><td>&quot;MBC&quot;</td><td>14.07</td><td>-3.5641</td><td>31.686111</td><td>1.356568</td><td>0.521707</td></tr><tr><td>2024-01-31</td><td>&quot;USBOOA1&quot;</td><td>&quot;GEHC&quot;</td><td>73.36</td><td>-0.8649</td><td>24.130635</td><td>1.023964</td><td>0.082302</td></tr><tr><td>2024-01-31</td><td>&quot;USBOQH1&quot;</td><td>&quot;VTS&quot;</td><td>21.01</td><td>-3.3134</td><td>32.931173</td><td>0.997244</td><td>0.46301</td></tr></tbody></table></div>"
      ],
      "text/plain": [
       "shape: (52_865, 8)\n",
       "┌────────────┬─────────┬────────┬───────┬─────────┬───────────────┬────────────────┬──────────┐\n",
       "│ date       ┆ barrid  ┆ ticker ┆ price ┆ return  ┆ specific_risk ┆ predicted_beta ┆ momentum │\n",
       "│ ---        ┆ ---     ┆ ---    ┆ ---   ┆ ---     ┆ ---           ┆ ---            ┆ ---      │\n",
       "│ date       ┆ str     ┆ str    ┆ f64   ┆ f64     ┆ f64           ┆ f64            ┆ f64      │\n",
       "╞════════════╪═════════╪════════╪═══════╪═════════╪═══════════════╪════════════════╪══════════╡\n",
       "│ 2024-01-03 ┆ USA06Z1 ┆ MDXG   ┆ 7.775 ┆ -1.2071 ┆ 49.827621     ┆ 1.092049       ┆ 1.027828 │\n",
       "│ 2024-01-04 ┆ USA06Z1 ┆ MDXG   ┆ 7.76  ┆ -0.1929 ┆ 49.746256     ┆ 1.098982       ┆ 0.989638 │\n",
       "│ 2024-01-05 ┆ USA06Z1 ┆ MDXG   ┆ 7.8   ┆ 0.5155  ┆ 49.535456     ┆ 1.063097       ┆ 0.979587 │\n",
       "│ 2024-01-08 ┆ USA06Z1 ┆ MDXG   ┆ 8.22  ┆ 5.3846  ┆ 49.435238     ┆ 1.085788       ┆ 0.936866 │\n",
       "│ 2024-01-09 ┆ USA06Z1 ┆ MDXG   ┆ 8.03  ┆ -2.3114 ┆ 49.468538     ┆ 1.182189       ┆ 0.896796 │\n",
       "│ …          ┆ …       ┆ …      ┆ …     ┆ …       ┆ …             ┆ …              ┆ …        │\n",
       "│ 2024-01-29 ┆ USBONP1 ┆ MBC    ┆ 14.65 ┆ 2.2331  ┆ 31.740028     ┆ 1.346623       ┆ 0.526594 │\n",
       "│ 2024-01-30 ┆ USBONP1 ┆ MBC    ┆ 14.59 ┆ -0.4096 ┆ 31.712842     ┆ 1.334121       ┆ 0.502256 │\n",
       "│ 2024-01-31 ┆ USBONP1 ┆ MBC    ┆ 14.07 ┆ -3.5641 ┆ 31.686111     ┆ 1.356568       ┆ 0.521707 │\n",
       "│ 2024-01-31 ┆ USBOOA1 ┆ GEHC   ┆ 73.36 ┆ -0.8649 ┆ 24.130635     ┆ 1.023964       ┆ 0.082302 │\n",
       "│ 2024-01-31 ┆ USBOQH1 ┆ VTS    ┆ 21.01 ┆ -3.3134 ┆ 32.931173     ┆ 0.997244       ┆ 0.46301  │\n",
       "└────────────┴─────────┴────────┴───────┴─────────┴───────────────┴────────────────┴──────────┘"
      ]
     },
     "execution_count": 6,
     "metadata": {},
     "output_type": "execute_result"
    }
   ],
   "source": [
    "def task_compute_momentum(data: pl.DataFrame) -> pl.DataFrame:\n",
    "    \"\"\"\n",
    "    Compute the t_12 to t_2 momentum signal for each secrutiy and date combination.\n",
    "    \n",
    "    Args:\n",
    "        data (pl.DataFrame): Data frame containing date, barrid, price, and return columns.\n",
    "    \n",
    "    Returns:\n",
    "        pl.DataFrame: Data frame with columns date, barrid, price, return, and momentum columns.\n",
    "    \"\"\"\n",
    "    data = data.sort([\"barrid\", \"date\"])\n",
    "\n",
    "    data = data.with_columns(\n",
    "        ((pl.col(\"return\") / 100 + 1).log())\n",
    "        .rolling_sum(window_size=230)\n",
    "        .shift(22)\n",
    "        .over(\"barrid\")\n",
    "        .alias(\"momentum\")\n",
    "    )\n",
    "\n",
    "    return data\n",
    "\n",
    "momentum = task_compute_momentum(data).drop_nulls(subset=[\"momentum\"])\n",
    "\n",
    "momentum"
   ]
  },
  {
   "cell_type": "markdown",
   "id": "103df9e3",
   "metadata": {},
   "source": [
    "## Compute the Alphas\n",
    "\n",
    "In order to make our momentum signal usable in our optimizer we will use a predetermined Information Coefficient of 0.05 and the forecasted idiosyncratic risk provided by Barra to convert our signal into alpha forecasts.\n",
    "\n",
    "### Instructions\n",
    "- For each date z-score the momentum signal across all asssets cross sectionally and call this `score`.\n",
    "- Using the `specific_risk` column compute the alphas as `0.05` * `score` * `specific_risk`.\n",
    "- Note: Make sure to divide `specific_risk` by 100 to put it in decimal space. "
   ]
  },
  {
   "cell_type": "code",
   "execution_count": 7,
   "id": "a9ce3c12",
   "metadata": {},
   "outputs": [
    {
     "data": {
      "text/html": [
       "<div><style>\n",
       ".dataframe > thead > tr,\n",
       ".dataframe > tbody > tr {\n",
       "  text-align: right;\n",
       "  white-space: pre-wrap;\n",
       "}\n",
       "</style>\n",
       "<small>shape: (52_865, 9)</small><table border=\"1\" class=\"dataframe\"><thead><tr><th>date</th><th>barrid</th><th>price</th><th>return</th><th>specific_risk</th><th>momentum</th><th>score</th><th>alpha</th><th>predicted_beta</th></tr><tr><td>date</td><td>str</td><td>f64</td><td>f64</td><td>f64</td><td>f64</td><td>f64</td><td>f64</td><td>f64</td></tr></thead><tbody><tr><td>2024-01-03</td><td>&quot;USA06Z1&quot;</td><td>7.775</td><td>-1.2071</td><td>0.498276</td><td>1.027828</td><td>2.291715</td><td>0.057095</td><td>1.092049</td></tr><tr><td>2024-01-03</td><td>&quot;USA0C11&quot;</td><td>74.15</td><td>-1.7881</td><td>0.170896</td><td>0.195164</td><td>0.503345</td><td>0.004301</td><td>1.402901</td></tr><tr><td>2024-01-03</td><td>&quot;USA0SY1&quot;</td><td>130.1</td><td>-5.1334</td><td>0.333872</td><td>-0.876093</td><td>-1.79747</td><td>-0.030006</td><td>1.556712</td></tr><tr><td>2024-01-03</td><td>&quot;USA11I1&quot;</td><td>43.55</td><td>-0.7294</td><td>0.192018</td><td>0.012158</td><td>0.110289</td><td>0.001059</td><td>1.055038</td></tr><tr><td>2024-01-03</td><td>&quot;USA11J1&quot;</td><td>6.26</td><td>-0.1595</td><td>0.342449</td><td>0.019372</td><td>0.125783</td><td>0.002154</td><td>1.387209</td></tr><tr><td>&hellip;</td><td>&hellip;</td><td>&hellip;</td><td>&hellip;</td><td>&hellip;</td><td>&hellip;</td><td>&hellip;</td><td>&hellip;</td><td>&hellip;</td></tr><tr><td>2024-01-31</td><td>&quot;USBOIQ1&quot;</td><td>5.8</td><td>-3.6545</td><td>0.53043</td><td>0.364641</td><td>0.802137</td><td>0.021274</td><td>1.176354</td></tr><tr><td>2024-01-31</td><td>&quot;USBOLS1&quot;</td><td>44.84</td><td>-4.4127</td><td>0.390056</td><td>0.805395</td><td>1.782504</td><td>0.034764</td><td>1.320376</td></tr><tr><td>2024-01-31</td><td>&quot;USBONP1&quot;</td><td>14.07</td><td>-3.5641</td><td>0.316861</td><td>0.521707</td><td>1.151499</td><td>0.018243</td><td>1.356568</td></tr><tr><td>2024-01-31</td><td>&quot;USBOOA1&quot;</td><td>73.36</td><td>-0.8649</td><td>0.241306</td><td>0.082302</td><td>0.174131</td><td>0.002101</td><td>1.023964</td></tr><tr><td>2024-01-31</td><td>&quot;USBOQH1&quot;</td><td>21.01</td><td>-3.3134</td><td>0.329312</td><td>0.46301</td><td>1.020939</td><td>0.01681</td><td>0.997244</td></tr></tbody></table></div>"
      ],
      "text/plain": [
       "shape: (52_865, 9)\n",
       "┌────────────┬─────────┬───────┬─────────┬───┬───────────┬──────────┬───────────┬────────────────┐\n",
       "│ date       ┆ barrid  ┆ price ┆ return  ┆ … ┆ momentum  ┆ score    ┆ alpha     ┆ predicted_beta │\n",
       "│ ---        ┆ ---     ┆ ---   ┆ ---     ┆   ┆ ---       ┆ ---      ┆ ---       ┆ ---            │\n",
       "│ date       ┆ str     ┆ f64   ┆ f64     ┆   ┆ f64       ┆ f64      ┆ f64       ┆ f64            │\n",
       "╞════════════╪═════════╪═══════╪═════════╪═══╪═══════════╪══════════╪═══════════╪════════════════╡\n",
       "│ 2024-01-03 ┆ USA06Z1 ┆ 7.775 ┆ -1.2071 ┆ … ┆ 1.027828  ┆ 2.291715 ┆ 0.057095  ┆ 1.092049       │\n",
       "│ 2024-01-03 ┆ USA0C11 ┆ 74.15 ┆ -1.7881 ┆ … ┆ 0.195164  ┆ 0.503345 ┆ 0.004301  ┆ 1.402901       │\n",
       "│ 2024-01-03 ┆ USA0SY1 ┆ 130.1 ┆ -5.1334 ┆ … ┆ -0.876093 ┆ -1.79747 ┆ -0.030006 ┆ 1.556712       │\n",
       "│ 2024-01-03 ┆ USA11I1 ┆ 43.55 ┆ -0.7294 ┆ … ┆ 0.012158  ┆ 0.110289 ┆ 0.001059  ┆ 1.055038       │\n",
       "│ 2024-01-03 ┆ USA11J1 ┆ 6.26  ┆ -0.1595 ┆ … ┆ 0.019372  ┆ 0.125783 ┆ 0.002154  ┆ 1.387209       │\n",
       "│ …          ┆ …       ┆ …     ┆ …       ┆ … ┆ …         ┆ …        ┆ …         ┆ …              │\n",
       "│ 2024-01-31 ┆ USBOIQ1 ┆ 5.8   ┆ -3.6545 ┆ … ┆ 0.364641  ┆ 0.802137 ┆ 0.021274  ┆ 1.176354       │\n",
       "│ 2024-01-31 ┆ USBOLS1 ┆ 44.84 ┆ -4.4127 ┆ … ┆ 0.805395  ┆ 1.782504 ┆ 0.034764  ┆ 1.320376       │\n",
       "│ 2024-01-31 ┆ USBONP1 ┆ 14.07 ┆ -3.5641 ┆ … ┆ 0.521707  ┆ 1.151499 ┆ 0.018243  ┆ 1.356568       │\n",
       "│ 2024-01-31 ┆ USBOOA1 ┆ 73.36 ┆ -0.8649 ┆ … ┆ 0.082302  ┆ 0.174131 ┆ 0.002101  ┆ 1.023964       │\n",
       "│ 2024-01-31 ┆ USBOQH1 ┆ 21.01 ┆ -3.3134 ┆ … ┆ 0.46301   ┆ 1.020939 ┆ 0.01681   ┆ 0.997244       │\n",
       "└────────────┴─────────┴───────┴─────────┴───┴───────────┴──────────┴───────────┴────────────────┘"
      ]
     },
     "execution_count": 7,
     "metadata": {},
     "output_type": "execute_result"
    }
   ],
   "source": [
    "def task_compute_alphas(momentum: pl.DataFrame) -> pl.DataFrame:\n",
    "    \"\"\" \n",
    "    Compute the alphas for each security and date combo.\n",
    "\n",
    "    Args:\n",
    "        momentum (pl.DataFrame): Data frame containing barrid, date, specific_risk, and momentum columns.\n",
    "    \n",
    "    Returns:\n",
    "        pl.DataFrame: Data frame containing barrid, date, specific_risk, momentum, score, and alpha columns.\n",
    "    \"\"\"\n",
    "    IC = 0.05\n",
    "\n",
    "    momentum = momentum.with_columns(\n",
    "        (pl.col(\"specific_risk\") / 100).alias(\"specific_risk\")\n",
    "    )\n",
    "    \n",
    "    momentum = momentum.with_columns([\n",
    "        pl.col('momentum').mean().over('date').alias('mean_momentum'),\n",
    "        pl.col('momentum').std().over('date').alias('std_momentum')\n",
    "    ]).with_columns(\n",
    "        ((pl.col('momentum') - pl.col('mean_momentum')) / pl.col('std_momentum')).alias('score')\n",
    "    ).with_columns(\n",
    "        (IC * pl.col('score') * pl.col('specific_risk')).alias('alpha')\n",
    "    )\n",
    "\n",
    "    return momentum.select(['date', 'barrid', 'price', 'return', 'specific_risk', 'momentum', 'score', 'alpha', 'predicted_beta'])\n",
    "\n",
    "\n",
    "alphas = task_compute_alphas(momentum).sort([\"date\", \"barrid\"])\n",
    "\n",
    "alphas"
   ]
  },
  {
   "cell_type": "code",
   "execution_count": 8,
   "id": "bdf6eab3",
   "metadata": {},
   "outputs": [
    {
     "data": {
      "text/html": [
       "<div><style>\n",
       ".dataframe > thead > tr,\n",
       ".dataframe > tbody > tr {\n",
       "  text-align: right;\n",
       "  white-space: pre-wrap;\n",
       "}\n",
       "</style>\n",
       "<small>shape: (48_248, 8)</small><table border=\"1\" class=\"dataframe\"><thead><tr><th>date</th><th>barrid</th><th>return</th><th>specific_risk</th><th>momentum</th><th>score</th><th>alpha</th><th>predicted_beta</th></tr><tr><td>date</td><td>str</td><td>f64</td><td>f64</td><td>f64</td><td>f64</td><td>f64</td><td>f64</td></tr></thead><tbody><tr><td>2024-01-03</td><td>&quot;USA0C11&quot;</td><td>-1.7881</td><td>0.170896</td><td>0.195164</td><td>0.503345</td><td>0.004301</td><td>1.402901</td></tr><tr><td>2024-01-03</td><td>&quot;USA0SY1&quot;</td><td>-5.1334</td><td>0.333872</td><td>-0.876093</td><td>-1.79747</td><td>-0.030006</td><td>1.556712</td></tr><tr><td>2024-01-03</td><td>&quot;USA11I1&quot;</td><td>-0.7294</td><td>0.192018</td><td>0.012158</td><td>0.110289</td><td>0.001059</td><td>1.055038</td></tr><tr><td>2024-01-03</td><td>&quot;USA11J1&quot;</td><td>-0.1595</td><td>0.342449</td><td>0.019372</td><td>0.125783</td><td>0.002154</td><td>1.387209</td></tr><tr><td>2024-01-03</td><td>&quot;USA12D1&quot;</td><td>-4.1802</td><td>0.425417</td><td>0.33611</td><td>0.806064</td><td>0.017146</td><td>1.203095</td></tr><tr><td>&hellip;</td><td>&hellip;</td><td>&hellip;</td><td>&hellip;</td><td>&hellip;</td><td>&hellip;</td><td>&hellip;</td><td>&hellip;</td></tr><tr><td>2024-01-31</td><td>&quot;USBOIQ1&quot;</td><td>-3.6545</td><td>0.53043</td><td>0.364641</td><td>0.802137</td><td>0.021274</td><td>1.176354</td></tr><tr><td>2024-01-31</td><td>&quot;USBOLS1&quot;</td><td>-4.4127</td><td>0.390056</td><td>0.805395</td><td>1.782504</td><td>0.034764</td><td>1.320376</td></tr><tr><td>2024-01-31</td><td>&quot;USBONP1&quot;</td><td>-3.5641</td><td>0.316861</td><td>0.521707</td><td>1.151499</td><td>0.018243</td><td>1.356568</td></tr><tr><td>2024-01-31</td><td>&quot;USBOOA1&quot;</td><td>-0.8649</td><td>0.241306</td><td>0.082302</td><td>0.174131</td><td>0.002101</td><td>1.023964</td></tr><tr><td>2024-01-31</td><td>&quot;USBOQH1&quot;</td><td>-3.3134</td><td>0.329312</td><td>0.46301</td><td>1.020939</td><td>0.01681</td><td>0.997244</td></tr></tbody></table></div>"
      ],
      "text/plain": [
       "shape: (48_248, 8)\n",
       "┌────────────┬─────────┬─────────┬───────────────┬───────────┬──────────┬───────────┬──────────────┐\n",
       "│ date       ┆ barrid  ┆ return  ┆ specific_risk ┆ momentum  ┆ score    ┆ alpha     ┆ predicted_be │\n",
       "│ ---        ┆ ---     ┆ ---     ┆ ---           ┆ ---       ┆ ---      ┆ ---       ┆ ta           │\n",
       "│ date       ┆ str     ┆ f64     ┆ f64           ┆ f64       ┆ f64      ┆ f64       ┆ ---          │\n",
       "│            ┆         ┆         ┆               ┆           ┆          ┆           ┆ f64          │\n",
       "╞════════════╪═════════╪═════════╪═══════════════╪═══════════╪══════════╪═══════════╪══════════════╡\n",
       "│ 2024-01-03 ┆ USA0C11 ┆ -1.7881 ┆ 0.170896      ┆ 0.195164  ┆ 0.503345 ┆ 0.004301  ┆ 1.402901     │\n",
       "│ 2024-01-03 ┆ USA0SY1 ┆ -5.1334 ┆ 0.333872      ┆ -0.876093 ┆ -1.79747 ┆ -0.030006 ┆ 1.556712     │\n",
       "│ 2024-01-03 ┆ USA11I1 ┆ -0.7294 ┆ 0.192018      ┆ 0.012158  ┆ 0.110289 ┆ 0.001059  ┆ 1.055038     │\n",
       "│ 2024-01-03 ┆ USA11J1 ┆ -0.1595 ┆ 0.342449      ┆ 0.019372  ┆ 0.125783 ┆ 0.002154  ┆ 1.387209     │\n",
       "│ 2024-01-03 ┆ USA12D1 ┆ -4.1802 ┆ 0.425417      ┆ 0.33611   ┆ 0.806064 ┆ 0.017146  ┆ 1.203095     │\n",
       "│ …          ┆ …       ┆ …       ┆ …             ┆ …         ┆ …        ┆ …         ┆ …            │\n",
       "│ 2024-01-31 ┆ USBOIQ1 ┆ -3.6545 ┆ 0.53043       ┆ 0.364641  ┆ 0.802137 ┆ 0.021274  ┆ 1.176354     │\n",
       "│ 2024-01-31 ┆ USBOLS1 ┆ -4.4127 ┆ 0.390056      ┆ 0.805395  ┆ 1.782504 ┆ 0.034764  ┆ 1.320376     │\n",
       "│ 2024-01-31 ┆ USBONP1 ┆ -3.5641 ┆ 0.316861      ┆ 0.521707  ┆ 1.151499 ┆ 0.018243  ┆ 1.356568     │\n",
       "│ 2024-01-31 ┆ USBOOA1 ┆ -0.8649 ┆ 0.241306      ┆ 0.082302  ┆ 0.174131 ┆ 0.002101  ┆ 1.023964     │\n",
       "│ 2024-01-31 ┆ USBOQH1 ┆ -3.3134 ┆ 0.329312      ┆ 0.46301   ┆ 1.020939 ┆ 0.01681   ┆ 0.997244     │\n",
       "└────────────┴─────────┴─────────┴───────────────┴───────────┴──────────┴───────────┴──────────────┘"
      ]
     },
     "execution_count": 8,
     "metadata": {},
     "output_type": "execute_result"
    }
   ],
   "source": [
    "def task_price_filter(alphas: pl.DataFrame) -> pl.DataFrame:\n",
    "    \"\"\"\n",
    "    Filter the universe to lagged price greater than 5 and non-null alpha.\n",
    "    \n",
    "    Args:\n",
    "        alphas (pl.DataFrame): Data frame containing barrid, date, specific_risk, momentum, score, and alpha columns.\n",
    "    Returns:\n",
    "        pl.DataFrame: Data frame containing barrid, date, specific_risk, momentum, score, and alpha columns.\n",
    "    \"\"\"\n",
    "    alphas = alphas.with_columns(pl.col('price').shift(1).alias('lagged_price'))\n",
    "    return alphas.filter((pl.col('lagged_price') > 5) & (pl.col(\"alpha\").is_not_null())).select(\n",
    "        ['date', 'barrid', 'return', 'specific_risk', 'momentum', 'score', 'alpha', 'predicted_beta'])\n",
    "\n",
    "price_filter = task_price_filter(alphas)\n",
    "\n",
    "price_filter"
   ]
  },
  {
   "cell_type": "markdown",
   "id": "333b134e",
   "metadata": {},
   "source": [
    "## Backtest\n",
    "\n",
    "Now that we have our alphas we will compute the MVO portfolios for each date in our sample.\n",
    "\n",
    "### Instructions\n",
    "- Use the `FullInvestment`, `LongOnly`, `NoBuyingOnMargin`, and `UnitBeta` constraints.\n",
    "- For each unique date in the `price_filter` data frame find the optimal weights using `sf_quant.optimizer.mve_optimizer`.\n",
    "- Note: for the `UnitBeta` constraint to work you will need to provide the predicted betas to the optimizer in each itteration.\n",
    "- Hint: the optimizer assumes that your alpha vector and covariance matrix are both sorted the same way.\n",
    "- Hint: use a gamma of 10."
   ]
  },
  {
   "cell_type": "code",
   "execution_count": 34,
   "id": "46de1d6c",
   "metadata": {},
   "outputs": [
    {
     "name": "stderr",
     "output_type": "stream",
     "text": [
      "100%|██████████| 20/20 [05:51<00:00, 17.60s/it]\n"
     ]
    },
    {
     "data": {
      "text/html": [
       "<div><style>\n",
       ".dataframe > thead > tr,\n",
       ".dataframe > tbody > tr {\n",
       "  text-align: right;\n",
       "  white-space: pre-wrap;\n",
       "}\n",
       "</style>\n",
       "<small>shape: (48_248, 3)</small><table border=\"1\" class=\"dataframe\"><thead><tr><th>date</th><th>barrid</th><th>weight</th></tr><tr><td>date</td><td>str</td><td>f64</td></tr></thead><tbody><tr><td>2024-01-03</td><td>&quot;USA0C11&quot;</td><td>-1.7833e-21</td></tr><tr><td>2024-01-03</td><td>&quot;USA0SY1&quot;</td><td>-2.7854e-21</td></tr><tr><td>2024-01-03</td><td>&quot;USA11I1&quot;</td><td>0.00092</td></tr><tr><td>2024-01-03</td><td>&quot;USA11J1&quot;</td><td>-1.1916e-21</td></tr><tr><td>2024-01-03</td><td>&quot;USA12D1&quot;</td><td>-8.9074e-22</td></tr><tr><td>&hellip;</td><td>&hellip;</td><td>&hellip;</td></tr><tr><td>2024-01-31</td><td>&quot;USBOIQ1&quot;</td><td>-1.4221e-21</td></tr><tr><td>2024-01-31</td><td>&quot;USBOLS1&quot;</td><td>1.7708e-22</td></tr><tr><td>2024-01-31</td><td>&quot;USBONP1&quot;</td><td>2.9379e-23</td></tr><tr><td>2024-01-31</td><td>&quot;USBOOA1&quot;</td><td>-2.1846e-21</td></tr><tr><td>2024-01-31</td><td>&quot;USBOQH1&quot;</td><td>0.000929</td></tr></tbody></table></div>"
      ],
      "text/plain": [
       "shape: (48_248, 3)\n",
       "┌────────────┬─────────┬─────────────┐\n",
       "│ date       ┆ barrid  ┆ weight      │\n",
       "│ ---        ┆ ---     ┆ ---         │\n",
       "│ date       ┆ str     ┆ f64         │\n",
       "╞════════════╪═════════╪═════════════╡\n",
       "│ 2024-01-03 ┆ USA0C11 ┆ -1.7833e-21 │\n",
       "│ 2024-01-03 ┆ USA0SY1 ┆ -2.7854e-21 │\n",
       "│ 2024-01-03 ┆ USA11I1 ┆ 0.00092     │\n",
       "│ 2024-01-03 ┆ USA11J1 ┆ -1.1916e-21 │\n",
       "│ 2024-01-03 ┆ USA12D1 ┆ -8.9074e-22 │\n",
       "│ …          ┆ …       ┆ …           │\n",
       "│ 2024-01-31 ┆ USBOIQ1 ┆ -1.4221e-21 │\n",
       "│ 2024-01-31 ┆ USBOLS1 ┆ 1.7708e-22  │\n",
       "│ 2024-01-31 ┆ USBONP1 ┆ 2.9379e-23  │\n",
       "│ 2024-01-31 ┆ USBOOA1 ┆ -2.1846e-21 │\n",
       "│ 2024-01-31 ┆ USBOQH1 ┆ 0.000929    │\n",
       "└────────────┴─────────┴─────────────┘"
      ]
     },
     "execution_count": 34,
     "metadata": {},
     "output_type": "execute_result"
    }
   ],
   "source": [
    "def task_backtest(price_filter: pl.DataFrame) -> pl.DataFrame:\n",
    "    \"\"\"\n",
    "    Compute the optimal portfolio weights for each day in our sample.\n",
    "    \n",
    "    Args:\n",
    "        price_filter (pl.DataFrame): Data frame containing barrid, date, specific_risk, momentum, score, and alpha columns.\n",
    "    Returns:\n",
    "        pl.DataFrame: Data frame containing barrid, date, and weight columns.\n",
    "    \"\"\"\n",
    "    GAMMA = 10.0\n",
    "    constraints = [sfo.FullInvestment(), sfo.LongOnly(), sfo.NoBuyingOnMargin(), sfo.UnitBeta()]\n",
    "    price_filter = price_filter.sort([\"date\", \"barrid\"])\n",
    "    dates = price_filter.select(pl.col(\"date\").unique().sort()).to_series().to_list()\n",
    "    all_weights = []\n",
    "\n",
    "    for date in tqdm.tqdm(dates):\n",
    "\n",
    "        daily_data = price_filter.filter(pl.col(\"date\") == date)\n",
    "        barrids = daily_data.select(\"barrid\").unique().sort(\"barrid\").to_series().to_list()\n",
    "\n",
    "        covariance_matrix = sfd.construct_covariance_matrix(date, barrids).select(pl.col(pl.Float64)).to_numpy()\n",
    "\n",
    "        alphas = daily_data[\"alpha\"].to_list()\n",
    "        betas_ = daily_data[\"predicted_beta\"].to_list()\n",
    "\n",
    "        weights = sfo.mve_optimizer(ids=barrids,\n",
    "            alphas=alphas, covariance_matrix=covariance_matrix, gamma=GAMMA, constraints=constraints, betas=betas_\n",
    "        )\n",
    "\n",
    "        all_weights.append(\n",
    "            pl.DataFrame(\n",
    "                {\n",
    "                    \"date\": [date] * len(weights),\n",
    "                    \"barrid\": barrids,\n",
    "                    \"weight\": weights,\n",
    "                }\n",
    "            )\n",
    "        )\n",
    "\n",
    "    return pl.concat(all_weights).with_columns(pl.col(\"weight\").struct.field(\"weight\").alias('weight'))\n",
    "\n",
    "weights = task_backtest(price_filter)\n",
    "\n",
    "weights"
   ]
  },
  {
   "cell_type": "markdown",
   "id": "dbf5739e",
   "metadata": {},
   "source": [
    "## Performance Analysis\n",
    "\n",
    "Now that we have our optimal weights we will join the returns from our initial dataset. \n",
    "\n",
    "### Instructions\n",
    "- Join the returns from `data` and compute the return and cumulative return of the portfolio using the optimal weights.\n",
    "- Note: since our covariance matrix isn't lagged we will need to shift our returns forward. To do this use `.shift(-1)` by `barrid` and call it `fwd_return`.\n",
    "- Chart the cumulative returns of the portfolio."
   ]
  },
  {
   "cell_type": "code",
   "execution_count": 46,
   "id": "ac6035ba",
   "metadata": {},
   "outputs": [
    {
     "data": {
      "text/html": [
       "<div><style>\n",
       ".dataframe > thead > tr,\n",
       ".dataframe > tbody > tr {\n",
       "  text-align: right;\n",
       "  white-space: pre-wrap;\n",
       "}\n",
       "</style>\n",
       "<small>shape: (20, 3)</small><table border=\"1\" class=\"dataframe\"><thead><tr><th>date</th><th>fwd_return</th><th>cum_fwd_return</th></tr><tr><td>date</td><td>f64</td><td>f64</td></tr></thead><tbody><tr><td>2024-01-03</td><td>-0.000314</td><td>-0.000314</td></tr><tr><td>2024-01-04</td><td>-0.002826</td><td>-0.003139</td></tr><tr><td>2024-01-05</td><td>0.017539</td><td>0.014345</td></tr><tr><td>2024-01-08</td><td>-0.002592</td><td>0.011715</td></tr><tr><td>2024-01-09</td><td>0.003455</td><td>0.015211</td></tr><tr><td>&hellip;</td><td>&hellip;</td><td>&hellip;</td></tr><tr><td>2024-01-25</td><td>0.005763</td><td>0.026232</td></tr><tr><td>2024-01-26</td><td>0.010844</td><td>0.03736</td></tr><tr><td>2024-01-29</td><td>-0.003375</td><td>0.033859</td></tr><tr><td>2024-01-30</td><td>-0.019458</td><td>0.013742</td></tr><tr><td>2024-01-31</td><td>0.0</td><td>0.013742</td></tr></tbody></table></div>"
      ],
      "text/plain": [
       "shape: (20, 3)\n",
       "┌────────────┬────────────┬────────────────┐\n",
       "│ date       ┆ fwd_return ┆ cum_fwd_return │\n",
       "│ ---        ┆ ---        ┆ ---            │\n",
       "│ date       ┆ f64        ┆ f64            │\n",
       "╞════════════╪════════════╪════════════════╡\n",
       "│ 2024-01-03 ┆ -0.000314  ┆ -0.000314      │\n",
       "│ 2024-01-04 ┆ -0.002826  ┆ -0.003139      │\n",
       "│ 2024-01-05 ┆ 0.017539   ┆ 0.014345       │\n",
       "│ 2024-01-08 ┆ -0.002592  ┆ 0.011715       │\n",
       "│ 2024-01-09 ┆ 0.003455   ┆ 0.015211       │\n",
       "│ …          ┆ …          ┆ …              │\n",
       "│ 2024-01-25 ┆ 0.005763   ┆ 0.026232       │\n",
       "│ 2024-01-26 ┆ 0.010844   ┆ 0.03736        │\n",
       "│ 2024-01-29 ┆ -0.003375  ┆ 0.033859       │\n",
       "│ 2024-01-30 ┆ -0.019458  ┆ 0.013742       │\n",
       "│ 2024-01-31 ┆ 0.0        ┆ 0.013742       │\n",
       "└────────────┴────────────┴────────────────┘"
      ]
     },
     "execution_count": 46,
     "metadata": {},
     "output_type": "execute_result"
    }
   ],
   "source": [
    "def task_compute_returns(weights: pl.DataFrame, data: pl.DataFrame) -> pl.DataFrame:\n",
    "    \"\"\" \n",
    "    Compute the optimal portfolio returns.\n",
    "\n",
    "    Args:\n",
    "        weights (pl.DataFrame): Data frame containing barrid, date, and weight columns.\n",
    "        data (pl.DataFrame): Data frame containing barrid, date, and return columns\n",
    "\n",
    "    Returns:\n",
    "        pl.DataFrame: Data frame containing date, fwd_return, and cumulative_fwd_return_columns\n",
    "    \"\"\"\n",
    "    df = data.join(weights, on=['date', 'barrid'], how='inner')\n",
    "    df = df.sort(['date', 'barrid'])\n",
    "    df = df.with_columns(\n",
    "        pl.col(\"return\").shift(-1).over(\"barrid\").alias(\"fwd_return\")\n",
    "    )\n",
    "    df = (\n",
    "        df.with_columns((pl.col(\"fwd_return\") * pl.col(\"weight\") / 100).alias(\"weighted_return\"))\n",
    "          .group_by(\"date\")\n",
    "          .agg(pl.col(\"weighted_return\").sum().alias(\"fwd_return\"))\n",
    "          .with_columns(((pl.col(\"fwd_return\") + 1).cum_prod() - 1).alias(\"cum_fwd_return\"))\n",
    "    )\n",
    "    return df.sort(['date'])\n",
    "\n",
    "returns = task_compute_returns(weights, data)\n",
    "\n",
    "returns"
   ]
  },
  {
   "cell_type": "code",
   "execution_count": 47,
   "id": "1cd6c858",
   "metadata": {},
   "outputs": [
    {
     "data": {
      "text/plain": [
       "<Axes: xlabel='date', ylabel='cum_fwd_return'>"
      ]
     },
     "execution_count": 47,
     "metadata": {},
     "output_type": "execute_result"
    },
    {
     "data": {
      "image/png": "[encoded data removed]",
      "text/plain": [
       "<Figure size 640x480 with 1 Axes>"
      ]
     },
     "metadata": {},
     "output_type": "display_data"
    }
   ],
   "source": [
    "sns.lineplot(data=returns, x='date', y='cum_fwd_return')"
   ]
  },
  {
   "cell_type": "markdown",
   "id": "437c6c46",
   "metadata": {},
   "source": [
    "## Benchmark Decomposition\n",
    "\n",
    "You should find that our portfolio is up and to the right. But the question is how much of that is due to the market being up versus our signal being good. We will find out by joining the benchmark weights to our `weights` data frame and computing the active weights.\n",
    "\n",
    "### Instructions\n",
    "\n",
    "- Pull in the benchmark weights using `sf_quant.data.load_benchmark`.\n",
    "- Join the benchmark weights to the optimal weights.\n",
    "- Compute the active weights as `weight` - `weight_bmk` = `weight_act`\n",
    "- Unpivot the weight columns and compute the forward return for each portfolio (total, benchmark, and active). "
   ]
  },
  {
   "cell_type": "code",
   "execution_count": 3,
   "id": "5ef508f7",
   "metadata": {},
   "outputs": [
    {
     "ename": "NameError",
     "evalue": "name 'weights' is not defined",
     "output_type": "error",
     "traceback": [
      "\u001b[31m---------------------------------------------------------------------------\u001b[39m",
      "\u001b[31mNameError\u001b[39m                                 Traceback (most recent call last)",
      "\u001b[36mCell\u001b[39m\u001b[36m \u001b[39m\u001b[32mIn[3]\u001b[39m\u001b[32m, line 16\u001b[39m\n\u001b[32m     12\u001b[39m     dates = data[\u001b[33m'\u001b[39m\u001b[33mdate\u001b[39m\u001b[33m'\u001b[39m]\n\u001b[32m     13\u001b[39m     weights_bmk = sfd.load_benchmark(dates[\u001b[32m0\u001b[39m], dates[-\u001b[32m1\u001b[39m])\n\u001b[32m---> \u001b[39m\u001b[32m16\u001b[39m returns_decomp = task_return_decomposition(\u001b[43mweights\u001b[49m, data)\n\u001b[32m     18\u001b[39m returns_decomp\n",
      "\u001b[31mNameError\u001b[39m: name 'weights' is not defined"
     ]
    }
   ],
   "source": [
    "def task_return_decomposition(weights: pl.DataFrame, data: pl.DataFrame) -> pl.DataFrame:\n",
    "    \"\"\" \n",
    "    Compute the forward returns for the total, benchmark, and active portfolios.\n",
    "\n",
    "    Args:\n",
    "        weights (pl.DataFrame): Data frame containing barrid, date, and weight columns.\n",
    "        data (pl.DataFrame): Data frame containing barrid, date, and return columns\n",
    "\n",
    "    Returns:\n",
    "        pl.DataFrame: Data frame containing date, portfolio, fwd_return, and cumulative_fwd_return columns        \n",
    "    \"\"\"\n",
    "    dates = data['date']\n",
    "    weights_bmk = sfd.load_benchmark(dates[0], dates[-1])\n",
    "    \n",
    "\n",
    "returns_decomp = task_return_decomposition(weights, data)\n",
    "\n",
    "returns_decomp"
   ]
  },
  {
   "cell_type": "code",
   "execution_count": null,
   "id": "6314221a",
   "metadata": {},
   "outputs": [],
   "source": [
    "sns.lineplot(data=returns, x='date', y='return', hue='portfolio')"
   ]
  },
  {
   "cell_type": "code",
   "execution_count": 18,
   "id": "46d271c0",
   "metadata": {},
   "outputs": [],
   "source": [
    "def performance_metrics(returns: pl.DataFrame) -> dict:\n",
    "    average_return = returns.select(pl.col('return').mean()).item() * np.sqrt(252)\n",
    "    volatility = returns.select(pl.col('return').std()).item() * np.sqrt(252)\n",
    "    sharpe = average_return / volatility * np.sqrt(252)\n",
    "\n",
    "    return {\n",
    "        'average_return': average_return,\n",
    "        'volatility': volatility,\n",
    "        'sharpe': sharpe\n",
    "    }"
   ]
  },
  {
   "cell_type": "code",
   "execution_count": null,
   "id": "b2dd98ef",
   "metadata": {},
   "outputs": [],
   "source": [
    "print(f\"active: {performance_metrics(returns.filter(pl.col('portfolio') == 'active'))}\")\n",
    "print(f\"benchmark: {performance_metrics(returns.filter(pl.col('portfolio') == 'benchmark'))}\")\n",
    "print(f\"total: {performance_metrics(returns.filter(pl.col('portfolio') == 'total'))}\")"
   ]
  },
  {
   "cell_type": "markdown",
   "id": "b78b4b5a",
   "metadata": {},
   "source": [
    "## `sf_quant` Backtester Module\n",
    "\n",
    "That was a lot of fun right? Just kidding. All of that code takes a lot of work. That's why we've implemented a backtester in the `sf_quant` package. Let's practice using it really quick and compare our results.\n",
    "\n",
    "### Instructions\n",
    "- Declare your constraints the same way you did previously.\n",
    "- Use a gamma of 10.\n",
    "- Find the optimal weights using the `sf_quant.backtester` module.\n",
    "- Hint: use the `backtest_parallel()` module to run your backtest in parallel across all the cores on your machine."
   ]
  },
  {
   "cell_type": "code",
   "execution_count": 9,
   "id": "a7d4fef1",
   "metadata": {},
   "outputs": [
    {
     "name": "stderr",
     "output_type": "stream",
     "text": [
      "2025-09-16 22:50:56,691\tINFO worker.py:1951 -- Started a local Ray instance.\n",
      "(pid=1244122) Computing portfolios with 4 cpus 0: 100%|██████████| 20.0/20.0 [01:25<00:00, 3.67s/it]"
     ]
    },
    {
     "data": {
      "text/html": [
       "<div><style>\n",
       ".dataframe > thead > tr,\n",
       ".dataframe > tbody > tr {\n",
       "  text-align: right;\n",
       "  white-space: pre-wrap;\n",
       "}\n",
       "</style>\n",
       "<small>shape: (48_248, 3)</small><table border=\"1\" class=\"dataframe\"><thead><tr><th>date</th><th>barrid</th><th>weight</th></tr><tr><td>date</td><td>str</td><td>f64</td></tr></thead><tbody><tr><td>2024-01-03</td><td>&quot;USA0C11&quot;</td><td>-2.1677e-21</td></tr><tr><td>2024-01-03</td><td>&quot;USA0SY1&quot;</td><td>-3.0088e-21</td></tr><tr><td>2024-01-03</td><td>&quot;USA11I1&quot;</td><td>0.00092</td></tr><tr><td>2024-01-03</td><td>&quot;USA11J1&quot;</td><td>-8.6317e-22</td></tr><tr><td>2024-01-03</td><td>&quot;USA12D1&quot;</td><td>-8.2991e-22</td></tr><tr><td>&hellip;</td><td>&hellip;</td><td>&hellip;</td></tr><tr><td>2024-01-31</td><td>&quot;USBOIQ1&quot;</td><td>-1.4009e-21</td></tr><tr><td>2024-01-31</td><td>&quot;USBOLS1&quot;</td><td>-9.0571e-23</td></tr><tr><td>2024-01-31</td><td>&quot;USBONP1&quot;</td><td>-8.4767e-23</td></tr><tr><td>2024-01-31</td><td>&quot;USBOOA1&quot;</td><td>-2.3349e-21</td></tr><tr><td>2024-01-31</td><td>&quot;USBOQH1&quot;</td><td>0.000929</td></tr></tbody></table></div>"
      ],
      "text/plain": [
       "shape: (48_248, 3)\n",
       "┌────────────┬─────────┬─────────────┐\n",
       "│ date       ┆ barrid  ┆ weight      │\n",
       "│ ---        ┆ ---     ┆ ---         │\n",
       "│ date       ┆ str     ┆ f64         │\n",
       "╞════════════╪═════════╪═════════════╡\n",
       "│ 2024-01-03 ┆ USA0C11 ┆ -2.1677e-21 │\n",
       "│ 2024-01-03 ┆ USA0SY1 ┆ -3.0088e-21 │\n",
       "│ 2024-01-03 ┆ USA11I1 ┆ 0.00092     │\n",
       "│ 2024-01-03 ┆ USA11J1 ┆ -8.6317e-22 │\n",
       "│ 2024-01-03 ┆ USA12D1 ┆ -8.2991e-22 │\n",
       "│ …          ┆ …       ┆ …           │\n",
       "│ 2024-01-31 ┆ USBOIQ1 ┆ -1.4009e-21 │\n",
       "│ 2024-01-31 ┆ USBOLS1 ┆ -9.0571e-23 │\n",
       "│ 2024-01-31 ┆ USBONP1 ┆ -8.4767e-23 │\n",
       "│ 2024-01-31 ┆ USBOOA1 ┆ -2.3349e-21 │\n",
       "│ 2024-01-31 ┆ USBOQH1 ┆ 0.000929    │\n",
       "└────────────┴─────────┴─────────────┘"
      ]
     },
     "execution_count": 9,
     "metadata": {},
     "output_type": "execute_result"
    }
   ],
   "source": [
    "def task_backtest_sf(price_filter: pl.DataFrame) -> pl.DataFrame:\n",
    "    \"\"\" \n",
    "    Compute the optimal portfolio weights using the `sf_quant` package.\n",
    "\n",
    "    Args:\n",
    "        price_filter (pl.DataFrame): Data frame containing barrid, date, specific_risk, momentum, score, and alpha columns.\n",
    "\n",
    "    Returns:\n",
    "        pl.DataFrame: Data frame containing barrid, date, and weight columns.\n",
    "    \"\"\"\n",
    "    GAMMA = 10.0\n",
    "    constraints = [sfo.FullInvestment(), sfo.UnitBeta(), sfo.LongOnly()]\n",
    "    return sfb.backtest_parallel(data=price_filter, constraints=constraints, gamma=GAMMA, n_cpus=4)\n",
    "\n",
    "weights_sf = task_backtest_sf(price_filter)\n",
    "\n",
    "weights_sf"
   ]
  },
  {
   "cell_type": "markdown",
   "id": "fa70bd84",
   "metadata": {},
   "source": [
    "## `sf_quant` Performance Package\n",
    "\n",
    "It's also not a lot of fun to merge the returns dataset and do a full decomposition manually. You can do that with `sf_quant.performance` too.\n",
    "\n",
    "### Instructions\n",
    "\n",
    "- Compute the portfolio forward returns decomposition using the `generate_returns_from_weights` function.\n",
    "- Chart the cumulative returns of the portfolios using the `generate_returns_chart` function.\n",
    "- Generate the summary table using the `generate_summary_table` function."
   ]
  },
  {
   "cell_type": "code",
   "execution_count": 10,
   "id": "cda5d986",
   "metadata": {},
   "outputs": [
    {
     "data": {
      "text/html": [
       "<div><style>\n",
       ".dataframe > thead > tr,\n",
       ".dataframe > tbody > tr {\n",
       "  text-align: right;\n",
       "  white-space: pre-wrap;\n",
       "}\n",
       "</style>\n",
       "<small>shape: (60, 3)</small><table border=\"1\" class=\"dataframe\"><thead><tr><th>date</th><th>portfolio</th><th>return</th></tr><tr><td>date</td><td>str</td><td>f64</td></tr></thead><tbody><tr><td>2024-01-03</td><td>&quot;active&quot;</td><td>0.002531</td></tr><tr><td>2024-01-03</td><td>&quot;benchmark&quot;</td><td>-0.002845</td></tr><tr><td>2024-01-03</td><td>&quot;total&quot;</td><td>-0.000314</td></tr><tr><td>2024-01-04</td><td>&quot;active&quot;</td><td>-0.004468</td></tr><tr><td>2024-01-04</td><td>&quot;benchmark&quot;</td><td>0.001643</td></tr><tr><td>&hellip;</td><td>&hellip;</td><td>&hellip;</td></tr><tr><td>2024-01-30</td><td>&quot;benchmark&quot;</td><td>-0.016353</td></tr><tr><td>2024-01-30</td><td>&quot;total&quot;</td><td>-0.019458</td></tr><tr><td>2024-01-31</td><td>&quot;active&quot;</td><td>0.002967</td></tr><tr><td>2024-01-31</td><td>&quot;benchmark&quot;</td><td>0.011962</td></tr><tr><td>2024-01-31</td><td>&quot;total&quot;</td><td>0.014929</td></tr></tbody></table></div>"
      ],
      "text/plain": [
       "shape: (60, 3)\n",
       "┌────────────┬───────────┬───────────┐\n",
       "│ date       ┆ portfolio ┆ return    │\n",
       "│ ---        ┆ ---       ┆ ---       │\n",
       "│ date       ┆ str       ┆ f64       │\n",
       "╞════════════╪═══════════╪═══════════╡\n",
       "│ 2024-01-03 ┆ active    ┆ 0.002531  │\n",
       "│ 2024-01-03 ┆ benchmark ┆ -0.002845 │\n",
       "│ 2024-01-03 ┆ total     ┆ -0.000314 │\n",
       "│ 2024-01-04 ┆ active    ┆ -0.004468 │\n",
       "│ 2024-01-04 ┆ benchmark ┆ 0.001643  │\n",
       "│ …          ┆ …         ┆ …         │\n",
       "│ 2024-01-30 ┆ benchmark ┆ -0.016353 │\n",
       "│ 2024-01-30 ┆ total     ┆ -0.019458 │\n",
       "│ 2024-01-31 ┆ active    ┆ 0.002967  │\n",
       "│ 2024-01-31 ┆ benchmark ┆ 0.011962  │\n",
       "│ 2024-01-31 ┆ total     ┆ 0.014929  │\n",
       "└────────────┴───────────┴───────────┘"
      ]
     },
     "execution_count": 10,
     "metadata": {},
     "output_type": "execute_result"
    }
   ],
   "source": [
    "def task_return_decomposition_sf(weights_sf: pl.DataFrame) -> pl.DataFrame:\n",
    "    \"\"\" \n",
    "    Compute the returns decomposition using the `sf_quant` package.\n",
    "\n",
    "    Args:\n",
    "        weights_sf (pl.DataFrame): Data frame containing date, barrid, and weight columns.\n",
    "\n",
    "    Returns:\n",
    "        pl.DataFrame: Data frame containing date, portfolio, and return (fwd_return) columns\n",
    "    \"\"\"\n",
    "    return sfp.generate_returns_from_weights(weights_sf)\n",
    "\n",
    "returns_sf = task_return_decomposition_sf(weights_sf)\n",
    "\n",
    "returns_sf"
   ]
  },
  {
   "cell_type": "code",
   "execution_count": 11,
   "id": "9a77ffc2",
   "metadata": {},
   "outputs": [
    {
     "data": {
      "text/plain": [
       "<Axes: xlabel='date', ylabel='return'>"
      ]
     },
     "execution_count": 11,
     "metadata": {},
     "output_type": "execute_result"
    },
    {
     "data": {
      "image/png": "[encoded data removed]",
      "text/plain": [
       "<Figure size 640x480 with 1 Axes>"
      ]
     },
     "metadata": {},
     "output_type": "display_data"
    }
   ],
   "source": [
    "sns.lineplot(data=returns_sf, x='date', y='return', hue='portfolio')"
   ]
  },
  {
   "cell_type": "code",
   "execution_count": 13,
   "id": "a9ac4869",
   "metadata": {},
   "outputs": [],
   "source": [
    "import numpy as np"
   ]
  },
  {
   "cell_type": "code",
   "execution_count": 14,
   "id": "7d74038d",
   "metadata": {},
   "outputs": [],
   "source": [
    "def performance_metrics(returns: pl.DataFrame) -> dict:\n",
    "    average_return = returns.select(pl.col('return').mean()).item() * np.sqrt(252)\n",
    "    volatility = returns.select(pl.col('return').std()).item() * np.sqrt(252)\n",
    "    sharpe = average_return / volatility * np.sqrt(252)\n",
    "\n",
    "    return {\n",
    "        'average_return': average_return,\n",
    "        'volatility': volatility,\n",
    "        'sharpe': sharpe\n",
    "    }"
   ]
  },
  {
   "cell_type": "code",
   "execution_count": 23,
   "id": "2ba0ae9c",
   "metadata": {},
   "outputs": [
    {
     "name": "stderr",
     "output_type": "stream",
     "text": [
      "(pid=1244122) Computing portfolios with 4 cpus 0: 100%|██████████| 20.0/20.0 [10:45<00:00, 3.67s/it]"
     ]
    },
    {
     "name": "stdout",
     "output_type": "stream",
     "text": [
      "active: {'average_return': np.float64(-0.006378758345063752), 'volatility': np.float64(0.055172841476783765), 'sharpe': np.float64(-1.8353169207192068)}\n",
      "benchmark: {'average_return': np.float64(0.02967679959294633), 'volatility': np.float64(0.11138542425396902), 'sharpe': np.float64(4.229499431750345)}\n",
      "total: {'average_return': np.float64(0.023298041247882546), 'volatility': np.float64(0.1410055957739147), 'sharpe': np.float64(2.6229096585211713)}\n"
     ]
    }
   ],
   "source": [
    "print(f\"active: {performance_metrics(returns_sf.filter(pl.col('portfolio') == 'active'))}\")\n",
    "print(f\"benchmark: {performance_metrics(returns_sf.filter(pl.col('portfolio') == 'benchmark'))}\")\n",
    "print(f\"total: {performance_metrics(returns_sf.filter(pl.col('portfolio') == 'total'))}\")"
   ]
  }
 ],
 "metadata": {
  "kernelspec": {
   "display_name": "sf-quant-labs",
   "language": "python",
   "name": "python3"
  },
  "language_info": {
   "codemirror_mode": {
    "name": "ipython",
    "version": 3
   },
   "file_extension": ".py",
   "mimetype": "text/x-python",
   "name": "python",
   "nbconvert_exporter": "python",
   "pygments_lexer": "ipython3",
   "version": "3.11.7"
  }
 },
 "nbformat": 4,
 "nbformat_minor": 5
}
